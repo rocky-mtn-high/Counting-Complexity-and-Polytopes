{
 "cells": [
  {
   "cell_type": "code",
   "execution_count": 13,
   "id": "069f787f",
   "metadata": {},
   "outputs": [],
   "source": [
    "import networkx as nx \n",
    "\n",
    "def add_edges_recursive(graph, blocks, d, j):\n",
    "    # Base case: if blocks are equal to [d, d, ..., d], return\n",
    "    if all(block == d for block in blocks):\n",
    "        return\n",
    "\n",
    "    # Generate children and add edges recursively\n",
    "    for child in generate_children(blocks, d, j):\n",
    "        graph.add_edge(tuple(blocks), tuple(child))\n",
    "        add_edges_recursive(graph, child, d, j)\n",
    "\n",
    "def generate_children(blocks, d, j):\n",
    "    children = []\n",
    "\n",
    "    # Handle the case of an empty partition\n",
    "    if all(block == 0 for block in blocks):\n",
    "        return [[1] + [0] * (j - 1)]\n",
    "\n",
    "    for i in range(j):\n",
    "        # Condition to check if a box can be added to the ith column\n",
    "        if (i == 0 or blocks[i] + 1 <= blocks[i-1]) and blocks[i] < d:\n",
    "            new_blocks = blocks.copy()\n",
    "            new_blocks[i] += 1\n",
    "            children.append(new_blocks)\n",
    "\n",
    "    return children"
   ]
  },
  {
   "cell_type": "code",
   "execution_count": 15,
   "id": "36e67837",
   "metadata": {},
   "outputs": [],
   "source": [
    "k = nx.DiGraph()\n",
    "blocks = [0,0, 0]\n",
    "d = 4\n",
    "j = 4\n",
    "add_edges_recursive(k, blocks, d, j )\n",
    "nx.drawing.nx_pydot.write_dot(k, \"test.txt\")"
   ]
  },
  {
   "cell_type": "code",
   "execution_count": null,
   "id": "46e52659",
   "metadata": {},
   "outputs": [],
   "source": []
  }
 ],
 "metadata": {
  "kernelspec": {
   "display_name": "Python 3 (ipykernel)",
   "language": "python",
   "name": "python3"
  },
  "language_info": {
   "codemirror_mode": {
    "name": "ipython",
    "version": 3
   },
   "file_extension": ".py",
   "mimetype": "text/x-python",
   "name": "python",
   "nbconvert_exporter": "python",
   "pygments_lexer": "ipython3",
   "version": "3.9.18"
  }
 },
 "nbformat": 4,
 "nbformat_minor": 5
}
