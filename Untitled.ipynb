{
 "cells": [
  {
   "cell_type": "code",
   "execution_count": 6,
   "id": "e8fb3806",
   "metadata": {},
   "outputs": [],
   "source": [
    "import networkx as nx \n",
    "import numpy as np "
   ]
  },
  {
   "cell_type": "code",
   "execution_count": 7,
   "id": "3f74479d",
   "metadata": {},
   "outputs": [],
   "source": [
    "def generate_children(d, j, blocks):\n",
    "    children = []\n",
    "    if blocks == [0, 0, 0, 0]:\n",
    "        return [[1, 0, 0, 0]]\n",
    "    for i in range(j - 1):\n",
    "        if blocks[i] < j and blocks[i] != 0:  #and blocks[i-1] >= blocks[i] + 1:            \n",
    "            new_blocks = blocks.copy()\n",
    "            new_blocks[i] += 1\n",
    "            children.append(new_blocks)\n",
    "        elif blocks[i] == 0 and blocks[i - 1] != 0:\n",
    "            new_blocks = blocks.copy()\n",
    "            new_blocks[i] += 1\n",
    "            children.append(new_blocks)\n",
    "    print(blocks, children)\n",
    "    return children\n"
   ]
  },
  {
   "cell_type": "code",
   "execution_count": 8,
   "id": "ecb494e2",
   "metadata": {},
   "outputs": [],
   "source": [
    "def add_edges_recursive(graph, blocks, d, j):\n",
    "    if blocks == [j, j, j, j]:\n",
    "        return None\n",
    "    for child in generate_children(d, j, blocks):\n",
    "        graph.add_edge(tuple(blocks), tuple(child))\n",
    "        add_edges_recursive(graph, child, d, j)"
   ]
  },
  {
   "cell_type": "raw",
   "id": "222b70ed",
   "metadata": {},
   "source": [
    "g = nx.DiGraph()\n",
    "blocks = [0,0,0,0]\n",
    "d = 4\n",
    "j = 4\n",
    "add_edges_recursive(g, blocks, d, j )\n",
    "nx.drawing.nx_pydot.write_dot(g, \"t.txt\")"
   ]
  },
  {
   "cell_type": "code",
   "execution_count": null,
   "id": "ea3fb7b1",
   "metadata": {},
   "outputs": [],
   "source": []
  },
  {
   "cell_type": "code",
   "execution_count": null,
   "id": "a3e86491",
   "metadata": {},
   "outputs": [],
   "source": []
  }
 ],
 "metadata": {
  "kernelspec": {
   "display_name": "Python 3 (ipykernel)",
   "language": "python",
   "name": "python3"
  },
  "language_info": {
   "codemirror_mode": {
    "name": "ipython",
    "version": 3
   },
   "file_extension": ".py",
   "mimetype": "text/x-python",
   "name": "python",
   "nbconvert_exporter": "python",
   "pygments_lexer": "ipython3",
   "version": "3.9.18"
  }
 },
 "nbformat": 4,
 "nbformat_minor": 5
}
