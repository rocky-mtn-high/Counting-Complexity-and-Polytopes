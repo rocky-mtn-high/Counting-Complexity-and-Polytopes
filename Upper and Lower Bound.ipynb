{
 "cells": [
  {
   "cell_type": "code",
   "execution_count": 31,
   "id": "5ca87924",
   "metadata": {},
   "outputs": [
    {
     "name": "stdout",
     "output_type": "stream",
     "text": [
      "{0: [[]], 1: [[1]], 2: [[1, 1], [2]], 3: [[1, 1, 1], [2, 1], [3]], 4: [[1, 1, 1, 1], [2, 1, 1], [2, 2], [3, 1], [4]]}\n"
     ]
    }
   ],
   "source": [
    "level = 5\n",
    "elements = [b for n in range(level) for b in Partitions(n)]\n",
    "ord = lambda x,y: y.contains(x)\n",
    "\n",
    "level = lambda x: sum(x)\n",
    "Y = Poset((elements,ord), facade=True)\n",
    "level_dict = {}\n",
    "for elm in Y:\n",
    "    l = level(elm)\n",
    "    if l not in level_dict:\n",
    "        level_dict[l] = []\n",
    "    level_dict[l].append(elm)\n",
    "    \n",
    "    \n",
    "# Y.graphviz_string()\n",
    "\n",
    "print(level_dict)\n",
    "\n",
    "# with open(\"test.txt\", \"w\") as file:\n",
    "#     file.write(Y.graphviz_string())"
   ]
  },
  {
   "cell_type": "code",
   "execution_count": 19,
   "id": "6d7dab64",
   "metadata": {},
   "outputs": [
    {
     "name": "stdout",
     "output_type": "stream",
     "text": [
      "Finite poset containing 67 elements\n"
     ]
    }
   ],
   "source": [
    "print(Y)\n",
    "# for i in Y:\n",
    "#     print(i)"
   ]
  },
  {
   "cell_type": "code",
   "execution_count": 26,
   "id": "1bac39f4",
   "metadata": {},
   "outputs": [
    {
     "name": "stdout",
     "output_type": "stream",
     "text": [
      "[]\n",
      "0\n",
      "[1]\n",
      "1\n",
      "[1, 1]\n",
      "2\n",
      "[1, 1, 1]\n",
      "3\n",
      "[1, 1, 1, 1]\n",
      "4\n",
      "[2]\n",
      "2\n",
      "[2, 1]\n",
      "3\n",
      "[2, 1, 1]\n",
      "4\n",
      "[2, 2]\n",
      "4\n",
      "[3]\n",
      "3\n",
      "[3, 1]\n",
      "4\n",
      "[4]\n",
      "4\n"
     ]
    }
   ],
   "source": [
    "##for each partition p(n), how many elements are needed such that their children are the entirety of p(n+1)? \n",
    "##this is g(n), minimal set \n",
    "\n",
    "for elm in Y:\n",
    "    print(elm)\n",
    "    print(level(elm))\n",
    "    "
   ]
  },
  {
   "cell_type": "code",
   "execution_count": 85,
   "id": "7f7c53a4",
   "metadata": {},
   "outputs": [],
   "source": [
    "##lower bound calculation:\n",
    "\n",
    "def lower_bound(n):\n",
    "    p = Partitions(n).cardinality()\n",
    "#     print(p)\n",
    "    t = (-1 + (1 + 8 * n) ** 0.5) / 2\n",
    "    t = t.floor()\n",
    "    return (p/(t + 1)).ceil()"
   ]
  },
  {
   "cell_type": "code",
   "execution_count": 90,
   "id": "b740f94f",
   "metadata": {},
   "outputs": [
    {
     "data": {
      "image/png": "[encoded data removed]",
      "text/plain": [
       "Graphics object consisting of 2 graphics primitives"
      ]
     },
     "metadata": {},
     "output_type": "display_data"
    }
   ],
   "source": [
    "# print(lower_bound(5))\n",
    "# lower_bound(5)\n",
    "# lower_bound(30)\n",
    "to_plot = []\n",
    "to_plot2 = []\n",
    "\n",
    "##change the second number to plot\n",
    "for i in range(1, 50):\n",
    "    to_plot.append([i, lower_bound(i)])\n",
    "    to_plot2.append([i, Partitions(i).cardinality()])\n",
    "    \n",
    "\n",
    "p1 = points(to_plot, color='blue')  # Assuming you're using SageMath's plotting functions\n",
    "p2 = points(to_plot2, color='red')\n",
    "\n",
    "show(p1 + p2, figsize=[6,4]) \n"
   ]
  },
  {
   "cell_type": "code",
   "execution_count": null,
   "id": "11616acd",
   "metadata": {},
   "outputs": [],
   "source": []
  }
 ],
 "metadata": {
  "kernelspec": {
   "display_name": "SageMath 10.1",
   "language": "sage",
   "name": "sagemath-10.1"
  },
  "language_info": {
   "codemirror_mode": {
    "name": "ipython",
    "version": 3
   },
   "file_extension": ".py",
   "mimetype": "text/x-python",
   "name": "python",
   "nbconvert_exporter": "python",
   "pygments_lexer": "ipython3",
   "version": "3.11.1"
  }
 },
 "nbformat": 4,
 "nbformat_minor": 5
}
